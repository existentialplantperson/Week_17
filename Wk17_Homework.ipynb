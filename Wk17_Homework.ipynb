{
 "cells": [
  {
   "cell_type": "markdown",
   "id": "e7662265",
   "metadata": {},
   "source": [
    "#### Week 17 Homework\n",
    "##### Angela Spencer January 26, 2022"
   ]
  },
  {
   "cell_type": "markdown",
   "id": "983d266e",
   "metadata": {},
   "source": [
    "##### 1.\tWhat is inductive reasoning? Deductive reasoning? Give an example of each, different from the examples given in class. \n",
    "- Using ONE of the following sources, complete the questions for only that source. \n",
    "    - Credit approval: https://archive.ics.uci.edu/ml/datasets/Statlog+%28Australian+Credit+Approval%29\n",
    "    - Cardiac Arrhythmia: https://archive.ics.uci.edu/ml/datasets/Arrhythmia \n",
    "    - Abalone age: https://archive.ics.uci.edu/ml/datasets/Abalone - this one is a bit harder since it’s not binary like the others, but if you really want to master these concepts, you should pick this one. Use RMSE as a performance metric if you do this as regression. You should target a value of under 3.  \n",
    "\n",
    "- Note: at least one of your models should have the most relevant performance metric above .90 . All performance metrics should be above .75 . You will partially be graded on model performance."
   ]
  },
  {
   "cell_type": "markdown",
   "id": "b605a99d",
   "metadata": {},
   "source": [
    "##### 2.\tPreprocess your dataset. Indicate which steps worked and which didn’t. Include your thoughts on why certain steps worked and certain steps didn’t. "
   ]
  },
  {
   "cell_type": "code",
   "execution_count": 1,
   "id": "b4c87a35",
   "metadata": {},
   "outputs": [],
   "source": [
    "import numpy as np\n",
    "import pandas as pd\n",
    "import matplotlib.pyplot as plt\n",
    "\n",
    "from sklearn.model_selection import train_test_split, cross_val_score\n",
    "from sklearn.metrics import mean_squared_error as MSE\n",
    "from sklearn.model_selection import GridSearchCV, RandomizedSearchCV\n",
    "from sklearn.linear_model import Lasso\n",
    "\n",
    "from sklearn.tree import DecisionTreeRegressor\n",
    "from sklearn.ensemble import RandomForestRegressor\n",
    "from xgboost import XGBRegressor"
   ]
  },
  {
   "cell_type": "code",
   "execution_count": 2,
   "id": "49a11fc5",
   "metadata": {},
   "outputs": [
    {
     "name": "stdout",
     "output_type": "stream",
     "text": [
      "1. Title of Database: Abalone data\n",
      "\n",
      "2. Sources:\n",
      "\n",
      "   (a) Original owners of database:\n",
      "\tMarine Resources Division\n",
      "\tMarine Research Laboratories - Taroona\n",
      "\tDepartment of Primary Industry and Fisheries, Tasmania\n",
      "\tGPO Box 619F, Hobart, Tasmania 7001, Australia\n",
      "\t(contact: Warwick Nash +61 02 277277, wnash@dpi.tas.gov.au)\n",
      "\n",
      "   (b) Donor of database:\n",
      "\tSam Waugh (Sam.Waugh@cs.utas.edu.au)\n",
      "\tDepartment of Computer Science, University of Tasmania\n",
      "\tGPO Box 252C, Hobart, Tasmania 7001, Australia\n",
      "\n",
      "   (c) Date received: December 1995\n",
      "\n",
      "\n",
      "3. Past Usage:\n",
      "\n",
      "   Sam Waugh (1995) \"Extending and benchmarking Cascade-Correlation\", PhD\n",
      "   thesis, Computer Science Department, University of Tasmania.\n",
      "\n",
      "   -- Test set performance (final 1044 examples, first 3133 used for training):\n",
      "\t24.86% Cascade-Correlation (no hidden nodes)\n",
      "\t26.25% Cascade-Correlation (5 hidden nodes)\n",
      "\t21.5%  C4.5\n",
      "\t 0.0%  Linear Discriminate Analysis\n",
      "\t 3.57% k=5 Nearest Neighbour\n",
      "      (Problem encoded as a classification task)\n",
      "\n",
      "   -- Data set samples are highly overlapped.  Further information is required\n",
      "\tto separate completely using affine combinations.  Other restrictions\n",
      "\tto data set examined.\n",
      "\n",
      "   David Clark, Zoltan Schreter, Anthony Adams \"A Quantitative Comparison of\n",
      "   Dystal and Backpropagation\", submitted to the Australian Conference on\n",
      "   Neural Networks (ACNN'96). Data set treated as a 3-category classification\n",
      "   problem (grouping ring classes 1-8, 9 and 10, and 11 on).\n",
      "\n",
      "   -- Test set performance (3133 training, 1044 testing as above):\n",
      "\t64%    Backprop\n",
      "\t55%    Dystal\n",
      "   -- Previous work (Waugh, 1995) on same data set:\n",
      "\t61.40% Cascade-Correlation (no hidden nodes)\n",
      "\t65.61% Cascade-Correlation (5 hidden nodes)\n",
      "\t59.2%  C4.5\n",
      "\t32.57% Linear Discriminate Analysis\n",
      "\t62.46% k=5 Nearest Neighbour\n",
      "\n",
      "\n",
      "4. Relevant Information Paragraph:\n",
      "\n",
      "   Predicting the age of abalone from physical measurements.  The age of\n",
      "   abalone is determined by cutting the shell through the cone, staining it,\n",
      "   and counting the number of rings through a microscope -- a boring and\n",
      "   time-consuming task.  Other measurements, which are easier to obtain, are\n",
      "   used to predict the age.  Further information, such as weather patterns\n",
      "   and location (hence food availability) may be required to solve the problem.\n",
      "\n",
      "   From the original data examples with missing values were removed (the\n",
      "   majority having the predicted value missing), and the ranges of the\n",
      "   continuous values have been scaled for use with an ANN (by dividing by 200).\n",
      "\n",
      "   Data comes from an original (non-machine-learning) study:\n",
      "\n",
      "\tWarwick J Nash, Tracy L Sellers, Simon R Talbot, Andrew J Cawthorn and\n",
      "\tWes B Ford (1994) \"The Population Biology of Abalone (_Haliotis_\n",
      "\tspecies) in Tasmania. I. Blacklip Abalone (_H. rubra_) from the North\n",
      "\tCoast and Islands of Bass Strait\", Sea Fisheries Division, Technical\n",
      "\tReport No. 48 (ISSN 1034-3288)\n",
      "\n",
      "\n",
      "5. Number of Instances: 4177\n",
      "\n",
      "\n",
      "6. Number of Attributes: 8\n",
      "\n",
      "\n",
      "7. Attribute information:\n",
      "\n",
      "   Given is the attribute name, attribute type, the measurement unit and a\n",
      "   brief description.  The number of rings is the value to predict: either\n",
      "   as a continuous value or as a classification problem.\n",
      "\n",
      "\tName\t\tData Type\tMeas.\tDescription\n",
      "\t----\t\t---------\t-----\t-----------\n",
      "\tSex\t\tnominal\t\t\tM, F, and I (infant)\n",
      "\tLength\t\tcontinuous\tmm\tLongest shell measurement\n",
      "\tDiameter\tcontinuous\tmm\tperpendicular to length\n",
      "\tHeight\t\tcontinuous\tmm\twith meat in shell\n",
      "\tWhole weight\tcontinuous\tgrams\twhole abalone\n",
      "\tShucked weight\tcontinuous\tgrams\tweight of meat\n",
      "\tViscera weight\tcontinuous\tgrams\tgut weight (after bleeding)\n",
      "\tShell weight\tcontinuous\tgrams\tafter being dried\n",
      "\tRings\t\tinteger\t\t\t+1.5 gives the age in years\n",
      "\n",
      "   Statistics for numeric domains:\n",
      "\n",
      "\t\tLength\tDiam\tHeight\tWhole\tShucked\tViscera\tShell\tRings\n",
      "\tMin\t0.075\t0.055\t0.000\t0.002\t0.001\t0.001\t0.002\t    1\n",
      "\tMax\t0.815\t0.650\t1.130\t2.826\t1.488\t0.760\t1.005\t   29\n",
      "\tMean\t0.524\t0.408\t0.140\t0.829\t0.359\t0.181\t0.239\t9.934\n",
      "\tSD\t0.120\t0.099\t0.042\t0.490\t0.222\t0.110\t0.139\t3.224\n",
      "\tCorrel\t0.557\t0.575\t0.557\t0.540\t0.421\t0.504\t0.628\t  1.0\n",
      "\n",
      "\n",
      "8. Missing Attribute Values: None\n",
      "\n",
      "\n",
      "9. Class Distribution:\n",
      "\n",
      "\tClass\tExamples\n",
      "\t-----\t--------\n",
      "\t1\t1\n",
      "\t2\t1\n",
      "\t3\t15\n",
      "\t4\t57\n",
      "\t5\t115\n",
      "\t6\t259\n",
      "\t7\t391\n",
      "\t8\t568\n",
      "\t9\t689\n",
      "\t10\t634\n",
      "\t11\t487\n",
      "\t12\t267\n",
      "\t13\t203\n",
      "\t14\t126\n",
      "\t15\t103\n",
      "\t16\t67\n",
      "\t17\t58\n",
      "\t18\t42\n",
      "\t19\t32\n",
      "\t20\t26\n",
      "\t21\t14\n",
      "\t22\t6\n",
      "\t23\t9\n",
      "\t24\t2\n",
      "\t25\t1\n",
      "\t26\t1\n",
      "\t27\t2\n",
      "\t29\t1\n",
      "\t-----\t----\n",
      "\tTotal\t4177\n",
      "\n"
     ]
    }
   ],
   "source": [
    "#view names file to determine column names\n",
    "\n",
    "with open('../Datasets/abalone.names') as names:\n",
    "    print(names.read())"
   ]
  },
  {
   "cell_type": "code",
   "execution_count": 3,
   "id": "5eb8bc14",
   "metadata": {},
   "outputs": [
    {
     "data": {
      "text/html": [
       "<div>\n",
       "<style scoped>\n",
       "    .dataframe tbody tr th:only-of-type {\n",
       "        vertical-align: middle;\n",
       "    }\n",
       "\n",
       "    .dataframe tbody tr th {\n",
       "        vertical-align: top;\n",
       "    }\n",
       "\n",
       "    .dataframe thead th {\n",
       "        text-align: right;\n",
       "    }\n",
       "</style>\n",
       "<table border=\"1\" class=\"dataframe\">\n",
       "  <thead>\n",
       "    <tr style=\"text-align: right;\">\n",
       "      <th></th>\n",
       "      <th>sex</th>\n",
       "      <th>length</th>\n",
       "      <th>diameter</th>\n",
       "      <th>height</th>\n",
       "      <th>whole_weight</th>\n",
       "      <th>shucked_weight</th>\n",
       "      <th>viscera_weight</th>\n",
       "      <th>shell_weight</th>\n",
       "      <th>rings</th>\n",
       "    </tr>\n",
       "  </thead>\n",
       "  <tbody>\n",
       "    <tr>\n",
       "      <th>0</th>\n",
       "      <td>M</td>\n",
       "      <td>0.455</td>\n",
       "      <td>0.365</td>\n",
       "      <td>0.095</td>\n",
       "      <td>0.5140</td>\n",
       "      <td>0.2245</td>\n",
       "      <td>0.1010</td>\n",
       "      <td>0.150</td>\n",
       "      <td>15</td>\n",
       "    </tr>\n",
       "    <tr>\n",
       "      <th>1</th>\n",
       "      <td>M</td>\n",
       "      <td>0.350</td>\n",
       "      <td>0.265</td>\n",
       "      <td>0.090</td>\n",
       "      <td>0.2255</td>\n",
       "      <td>0.0995</td>\n",
       "      <td>0.0485</td>\n",
       "      <td>0.070</td>\n",
       "      <td>7</td>\n",
       "    </tr>\n",
       "    <tr>\n",
       "      <th>2</th>\n",
       "      <td>F</td>\n",
       "      <td>0.530</td>\n",
       "      <td>0.420</td>\n",
       "      <td>0.135</td>\n",
       "      <td>0.6770</td>\n",
       "      <td>0.2565</td>\n",
       "      <td>0.1415</td>\n",
       "      <td>0.210</td>\n",
       "      <td>9</td>\n",
       "    </tr>\n",
       "    <tr>\n",
       "      <th>3</th>\n",
       "      <td>M</td>\n",
       "      <td>0.440</td>\n",
       "      <td>0.365</td>\n",
       "      <td>0.125</td>\n",
       "      <td>0.5160</td>\n",
       "      <td>0.2155</td>\n",
       "      <td>0.1140</td>\n",
       "      <td>0.155</td>\n",
       "      <td>10</td>\n",
       "    </tr>\n",
       "    <tr>\n",
       "      <th>4</th>\n",
       "      <td>I</td>\n",
       "      <td>0.330</td>\n",
       "      <td>0.255</td>\n",
       "      <td>0.080</td>\n",
       "      <td>0.2050</td>\n",
       "      <td>0.0895</td>\n",
       "      <td>0.0395</td>\n",
       "      <td>0.055</td>\n",
       "      <td>7</td>\n",
       "    </tr>\n",
       "  </tbody>\n",
       "</table>\n",
       "</div>"
      ],
      "text/plain": [
       "  sex  length  diameter  height  whole_weight  shucked_weight  viscera_weight  \\\n",
       "0   M   0.455     0.365   0.095        0.5140          0.2245          0.1010   \n",
       "1   M   0.350     0.265   0.090        0.2255          0.0995          0.0485   \n",
       "2   F   0.530     0.420   0.135        0.6770          0.2565          0.1415   \n",
       "3   M   0.440     0.365   0.125        0.5160          0.2155          0.1140   \n",
       "4   I   0.330     0.255   0.080        0.2050          0.0895          0.0395   \n",
       "\n",
       "   shell_weight  rings  \n",
       "0         0.150     15  \n",
       "1         0.070      7  \n",
       "2         0.210      9  \n",
       "3         0.155     10  \n",
       "4         0.055      7  "
      ]
     },
     "execution_count": 3,
     "metadata": {},
     "output_type": "execute_result"
    }
   ],
   "source": [
    "# convert .data file to dataframe with column names\n",
    "col = ['sex', 'length', 'diameter', 'height', 'whole_weight', 'shucked_weight', \n",
    "       'viscera_weight', 'shell_weight', 'rings']\n",
    "abalone = pd.read_csv('../Datasets/abalone.data', names=col)\n",
    "abalone.head()"
   ]
  },
  {
   "cell_type": "code",
   "execution_count": 4,
   "id": "701e8321",
   "metadata": {},
   "outputs": [
    {
     "data": {
      "text/plain": [
       "sex               0\n",
       "length            0\n",
       "diameter          0\n",
       "height            0\n",
       "whole_weight      0\n",
       "shucked_weight    0\n",
       "viscera_weight    0\n",
       "shell_weight      0\n",
       "rings             0\n",
       "dtype: int64"
      ]
     },
     "execution_count": 4,
     "metadata": {},
     "output_type": "execute_result"
    }
   ],
   "source": [
    "#null values have already been removed from this dataset\n",
    "abalone.isnull().sum()"
   ]
  },
  {
   "cell_type": "code",
   "execution_count": 5,
   "id": "f88cef98",
   "metadata": {},
   "outputs": [
    {
     "data": {
      "text/plain": [
       "sex                object\n",
       "length            float64\n",
       "diameter          float64\n",
       "height            float64\n",
       "whole_weight      float64\n",
       "shucked_weight    float64\n",
       "viscera_weight    float64\n",
       "shell_weight      float64\n",
       "rings               int64\n",
       "dtype: object"
      ]
     },
     "execution_count": 5,
     "metadata": {},
     "output_type": "execute_result"
    }
   ],
   "source": [
    "#check dtypes, only 'sex' is a string object\n",
    "abalone.dtypes"
   ]
  },
  {
   "cell_type": "code",
   "execution_count": 6,
   "id": "77387d98",
   "metadata": {},
   "outputs": [
    {
     "name": "stdout",
     "output_type": "stream",
     "text": [
      "M    1528\n",
      "I    1342\n",
      "F    1307\n",
      "Name: sex, dtype: int64\n"
     ]
    },
    {
     "data": {
      "text/html": [
       "<div>\n",
       "<style scoped>\n",
       "    .dataframe tbody tr th:only-of-type {\n",
       "        vertical-align: middle;\n",
       "    }\n",
       "\n",
       "    .dataframe tbody tr th {\n",
       "        vertical-align: top;\n",
       "    }\n",
       "\n",
       "    .dataframe thead th {\n",
       "        text-align: right;\n",
       "    }\n",
       "</style>\n",
       "<table border=\"1\" class=\"dataframe\">\n",
       "  <thead>\n",
       "    <tr style=\"text-align: right;\">\n",
       "      <th></th>\n",
       "      <th>length</th>\n",
       "      <th>diameter</th>\n",
       "      <th>height</th>\n",
       "      <th>whole_weight</th>\n",
       "      <th>shucked_weight</th>\n",
       "      <th>viscera_weight</th>\n",
       "      <th>shell_weight</th>\n",
       "      <th>rings</th>\n",
       "      <th>sex__F</th>\n",
       "      <th>sex__I</th>\n",
       "      <th>sex__M</th>\n",
       "    </tr>\n",
       "  </thead>\n",
       "  <tbody>\n",
       "    <tr>\n",
       "      <th>0</th>\n",
       "      <td>0.455</td>\n",
       "      <td>0.365</td>\n",
       "      <td>0.095</td>\n",
       "      <td>0.5140</td>\n",
       "      <td>0.2245</td>\n",
       "      <td>0.1010</td>\n",
       "      <td>0.150</td>\n",
       "      <td>15</td>\n",
       "      <td>0</td>\n",
       "      <td>0</td>\n",
       "      <td>1</td>\n",
       "    </tr>\n",
       "    <tr>\n",
       "      <th>1</th>\n",
       "      <td>0.350</td>\n",
       "      <td>0.265</td>\n",
       "      <td>0.090</td>\n",
       "      <td>0.2255</td>\n",
       "      <td>0.0995</td>\n",
       "      <td>0.0485</td>\n",
       "      <td>0.070</td>\n",
       "      <td>7</td>\n",
       "      <td>0</td>\n",
       "      <td>0</td>\n",
       "      <td>1</td>\n",
       "    </tr>\n",
       "    <tr>\n",
       "      <th>2</th>\n",
       "      <td>0.530</td>\n",
       "      <td>0.420</td>\n",
       "      <td>0.135</td>\n",
       "      <td>0.6770</td>\n",
       "      <td>0.2565</td>\n",
       "      <td>0.1415</td>\n",
       "      <td>0.210</td>\n",
       "      <td>9</td>\n",
       "      <td>1</td>\n",
       "      <td>0</td>\n",
       "      <td>0</td>\n",
       "    </tr>\n",
       "    <tr>\n",
       "      <th>3</th>\n",
       "      <td>0.440</td>\n",
       "      <td>0.365</td>\n",
       "      <td>0.125</td>\n",
       "      <td>0.5160</td>\n",
       "      <td>0.2155</td>\n",
       "      <td>0.1140</td>\n",
       "      <td>0.155</td>\n",
       "      <td>10</td>\n",
       "      <td>0</td>\n",
       "      <td>0</td>\n",
       "      <td>1</td>\n",
       "    </tr>\n",
       "    <tr>\n",
       "      <th>4</th>\n",
       "      <td>0.330</td>\n",
       "      <td>0.255</td>\n",
       "      <td>0.080</td>\n",
       "      <td>0.2050</td>\n",
       "      <td>0.0895</td>\n",
       "      <td>0.0395</td>\n",
       "      <td>0.055</td>\n",
       "      <td>7</td>\n",
       "      <td>0</td>\n",
       "      <td>1</td>\n",
       "      <td>0</td>\n",
       "    </tr>\n",
       "  </tbody>\n",
       "</table>\n",
       "</div>"
      ],
      "text/plain": [
       "   length  diameter  height  whole_weight  shucked_weight  viscera_weight  \\\n",
       "0   0.455     0.365   0.095        0.5140          0.2245          0.1010   \n",
       "1   0.350     0.265   0.090        0.2255          0.0995          0.0485   \n",
       "2   0.530     0.420   0.135        0.6770          0.2565          0.1415   \n",
       "3   0.440     0.365   0.125        0.5160          0.2155          0.1140   \n",
       "4   0.330     0.255   0.080        0.2050          0.0895          0.0395   \n",
       "\n",
       "   shell_weight  rings  sex__F  sex__I  sex__M  \n",
       "0         0.150     15       0       0       1  \n",
       "1         0.070      7       0       0       1  \n",
       "2         0.210      9       1       0       0  \n",
       "3         0.155     10       0       0       1  \n",
       "4         0.055      7       0       1       0  "
      ]
     },
     "execution_count": 6,
     "metadata": {},
     "output_type": "execute_result"
    }
   ],
   "source": [
    "#convert 'sex' column to numberic type\n",
    "print(abalone['sex'].value_counts())\n",
    "\n",
    "#one hot encode sex values\n",
    "abalone = pd.concat([abalone, pd.get_dummies(abalone['sex'], prefix='sex_')], axis=1)\n",
    "\n",
    "#drop redundant sex column\n",
    "abalone.drop('sex', axis=1, inplace=True)\n",
    "\n",
    "abalone.head()"
   ]
  },
  {
   "cell_type": "code",
   "execution_count": 7,
   "id": "80175a00",
   "metadata": {},
   "outputs": [],
   "source": [
    "#seperate feature and target variables\n",
    "X = abalone.drop('rings', axis=1)\n",
    "#X = abalone[['whole_weight']]\n",
    "y = abalone['rings']\n",
    "\n",
    "#train test split\n",
    "X_train, X_test, y_train, y_test = train_test_split(X,y, test_size=0.3, random_state=42)"
   ]
  },
  {
   "cell_type": "code",
   "execution_count": 8,
   "id": "61d46e02",
   "metadata": {},
   "outputs": [
    {
     "data": {
      "image/png": "[encoded data removed]",
      "text/plain": [
       "<Figure size 432x288 with 1 Axes>"
      ]
     },
     "metadata": {
      "needs_background": "light"
     },
     "output_type": "display_data"
    }
   ],
   "source": [
    "#Lasso regression to view the most highly correlated features\n",
    "\n",
    "lasso = Lasso(alpha=0.6)\n",
    "\n",
    "lasso_coef = lasso.fit(X,y).coef_\n",
    "lasso_coef\n",
    "\n",
    "X_labels = X.columns\n",
    "\n",
    "n = plt.plot(range(len(X_labels)), lasso_coef)\n",
    "n = plt.xticks(range(len(X_labels)), X_labels, rotation=90)\n",
    "n = plt.ylabel('Coefficients')\n",
    "n = plt.suptitle('Lasso Regression of Abalone Dataset')\n",
    "\n",
    "plt.show()"
   ]
  },
  {
   "cell_type": "markdown",
   "id": "18e31916",
   "metadata": {},
   "source": [
    "#### 3.\tCreate a decision tree model tuned to the best of your abilities. Explain how you tuned it."
   ]
  },
  {
   "cell_type": "markdown",
   "id": "c3fe8ef6",
   "metadata": {},
   "source": [
    "###### - Decision Tree Training Set"
   ]
  },
  {
   "cell_type": "code",
   "execution_count": 9,
   "id": "e907ad3b",
   "metadata": {},
   "outputs": [
    {
     "name": "stdout",
     "output_type": "stream",
     "text": [
      "Training Set RMSE of dt model: 3.06\n"
     ]
    }
   ],
   "source": [
    "#instantiate and fit Decision Tree Regressor\n",
    "dt = DecisionTreeRegressor(random_state=42)\n",
    "dt.fit(X_train, y_train)\n",
    "\n",
    "#training set RMSE\n",
    "rmse_dt_train = -cross_val_score(dt, \n",
    "                                 X_train, y_train, \n",
    "                                 cv=10, \n",
    "                                 scoring='neg_mean_squared_error', \n",
    "                                 n_jobs=-1)\n",
    "rmse_dt_train = rmse_dt_train.mean()**(1/2)\n",
    "print(\"Training Set RMSE of dt model: {:.2f}\".format(rmse_dt_train))"
   ]
  },
  {
   "cell_type": "markdown",
   "id": "edb890be",
   "metadata": {},
   "source": [
    "###### - Decision Tree Testing Set"
   ]
  },
  {
   "cell_type": "code",
   "execution_count": 10,
   "id": "de0abff8",
   "metadata": {},
   "outputs": [
    {
     "name": "stdout",
     "output_type": "stream",
     "text": [
      "Test RMSE of dt model: 2.89\n"
     ]
    }
   ],
   "source": [
    "#predict target values from test set\n",
    "y_pred_dt = dt.predict(X_test)\n",
    "\n",
    "#check root mean squared error for accuracy\n",
    "rmse_dt = (MSE(y_test, y_pred_dt))**(1/2)\n",
    "\n",
    "print(\"Test RMSE of dt model: {:.2f}\".format(rmse_dt))"
   ]
  },
  {
   "cell_type": "markdown",
   "id": "114eaaee",
   "metadata": {},
   "source": [
    "###### - Decision Tree Testing Set w/ Parameter Tuning"
   ]
  },
  {
   "cell_type": "code",
   "execution_count": 11,
   "id": "9a254bb9",
   "metadata": {},
   "outputs": [
    {
     "name": "stdout",
     "output_type": "stream",
     "text": [
      "Best parameters from GridSearch CV: {'max_depth': 10, 'max_features': 0.5, 'min_samples_leaf': 0.004}\n",
      " \n",
      "Test RMSE of tuned dt model: 2.37\n"
     ]
    }
   ],
   "source": [
    "#Grid Search CV to tune hyperparameters\n",
    "params_dt = {'max_depth':[10,12,14,16], \n",
    "             'min_samples_leaf':[0.004, 0.2, 0.04, 0.08], \n",
    "             'max_features':[0.2, 0.5, 1]}\n",
    "\n",
    "grid_dt = GridSearchCV(DecisionTreeRegressor(random_state=42), \n",
    "                       param_grid=params_dt, \n",
    "                       scoring='neg_mean_squared_error', \n",
    "                       cv=6)\n",
    "grid_dt.fit(X_train, y_train)\n",
    "\n",
    "#print best parameters\n",
    "print('Best parameters from GridSearch CV: {:}'.format(grid_dt.best_params_))\n",
    "print(' ')\n",
    "\n",
    "#predict on test set with best estimator\n",
    "y_pred_dt_tuned = grid_dt.best_estimator_.predict(X_test)\n",
    "\n",
    "#RMSE of best estimator\n",
    "rmse_dt_tuned = (MSE(y_test, y_pred_dt_tuned)**(1/2))\n",
    "\n",
    "print('Test RMSE of tuned dt model: {:.2f}'.format(rmse_dt_tuned))"
   ]
  },
  {
   "cell_type": "markdown",
   "id": "9e92c8cd",
   "metadata": {},
   "source": [
    "#### 4.\tCreate a random forest model tuned to the best of your abilities. Explain how you tuned it.\n"
   ]
  },
  {
   "cell_type": "markdown",
   "id": "df4f46e3",
   "metadata": {},
   "source": [
    "###### - Random Forest Training Set"
   ]
  },
  {
   "cell_type": "code",
   "execution_count": 12,
   "id": "1820f550",
   "metadata": {},
   "outputs": [
    {
     "name": "stdout",
     "output_type": "stream",
     "text": [
      "Training Set RMSE of rf model: 3.06\n"
     ]
    }
   ],
   "source": [
    "# instantiate RandomForestRegressor and fit to training set\n",
    "rf = RandomForestRegressor(random_state=42, n_jobs=-1)\n",
    "rf.fit(X_train, y_train)\n",
    "\n",
    "#training set RMSE\n",
    "rmse_rf_train = -cross_val_score(dt, \n",
    "                                 X_train, y_train, \n",
    "                                 cv=10, \n",
    "                                 scoring='neg_mean_squared_error', \n",
    "                                 n_jobs=-1)\n",
    "rmse_rf_train = rmse_rf_train.mean()**(1/2)\n",
    "print(\"Training Set RMSE of rf model: {:.2f}\".format(rmse_rf_train))"
   ]
  },
  {
   "cell_type": "markdown",
   "id": "74a686df",
   "metadata": {},
   "source": [
    "###### - Random Forest Testing Set"
   ]
  },
  {
   "cell_type": "code",
   "execution_count": 13,
   "id": "d5627a02",
   "metadata": {},
   "outputs": [
    {
     "name": "stdout",
     "output_type": "stream",
     "text": [
      "Test RMSE of rf model: 2.19\n"
     ]
    }
   ],
   "source": [
    "#predict target values from test set\n",
    "y_pred_rf = rf.predict(X_test)\n",
    "\n",
    "#root mean squared error \n",
    "rmse_rf = (MSE(y_test, y_pred_rf)**(1/2))\n",
    "\n",
    "print(\"Test RMSE of rf model: {:.2f}\".format(rmse_rf))"
   ]
  },
  {
   "cell_type": "markdown",
   "id": "f6c8fc36",
   "metadata": {},
   "source": [
    "###### - Decision Tree Testing Set w/ Parameter Tuning"
   ]
  },
  {
   "cell_type": "markdown",
   "id": "23a98f8d",
   "metadata": {},
   "source": [
    "###### - Random Forest RandomizedSearchCV"
   ]
  },
  {
   "cell_type": "code",
   "execution_count": 14,
   "id": "41626853",
   "metadata": {},
   "outputs": [
    {
     "name": "stdout",
     "output_type": "stream",
     "text": [
      "Best Parameters from RandomizedSearchCV:\n"
     ]
    },
    {
     "data": {
      "text/plain": [
       "{'n_estimators': 336,\n",
       " 'min_samples_leaf': 1e-05,\n",
       " 'max_features': 0.1,\n",
       " 'max_depth': 19,\n",
       " 'bootstrap': True}"
      ]
     },
     "execution_count": 14,
     "metadata": {},
     "output_type": "execute_result"
    }
   ],
   "source": [
    "#create parameter grid for RandomizedSearchCV\n",
    "param_dist = {'n_estimators':np.arange(100,400),\n",
    "              'max_depth':np.arange(10,30), \n",
    "              'min_samples_leaf':np.arange(0.00001,0.001),\n",
    "              'max_features':np.arange(0.1,1),\n",
    "              'bootstrap':[True,False]}\n",
    "\n",
    "#instantiate and fit \n",
    "random_rf = RandomizedSearchCV(rf, param_distributions = param_dist, n_iter = 20)\n",
    "\n",
    "random_rf.fit(X_train, y_train)\n",
    "\n",
    "#print best parameters from CV search\n",
    "print('Best Parameters from RandomizedSearchCV:')\n",
    "random_rf_params = random_rf.best_params_\n",
    "random_rf_params"
   ]
  },
  {
   "cell_type": "code",
   "execution_count": 15,
   "id": "8504063f",
   "metadata": {},
   "outputs": [
    {
     "name": "stdout",
     "output_type": "stream",
     "text": [
      "Test RMSE of tuned rf model: 2.18\n"
     ]
    }
   ],
   "source": [
    "# instantiate RandomForestRegressor with tuned parameters \n",
    "# fit to training set\n",
    "\n",
    "rf_tuned = RandomForestRegressor(n_estimators=287, \n",
    "                                 min_samples_leaf=0.000001,\n",
    "                                 max_features=0.1,\n",
    "                                 max_depth=19,\n",
    "                                 random_state=42,\n",
    "                                 n_jobs=-1)\n",
    "\n",
    "rf_tuned.fit(X_train, y_train)\n",
    "\n",
    "#predict target values from test set\n",
    "y_pred_rf_tuned = rf_tuned.predict(X_test)\n",
    "\n",
    "#RMSE scoring\n",
    "rmse_rf_tuned = (MSE(y_test, y_pred_rf_tuned)**(1/2))\n",
    "\n",
    "print('Test RMSE of tuned rf model: {:.2f}'.format(rmse_rf_tuned))"
   ]
  },
  {
   "cell_type": "markdown",
   "id": "c0d882bc",
   "metadata": {},
   "source": [
    "###### - Random Forest Grid Search CV"
   ]
  },
  {
   "cell_type": "code",
   "execution_count": 16,
   "id": "3173d312",
   "metadata": {},
   "outputs": [
    {
     "name": "stdout",
     "output_type": "stream",
     "text": [
      "Best parameters from GridSearch CV: {'max_depth': 10, 'max_features': 0.5, 'min_samples_leaf': 0.001, 'n_estimators': 250}\n",
      " \n",
      "Test RMSE of tuned rf model: 2.14\n"
     ]
    }
   ],
   "source": [
    "#Grid Search CV to tune hyperparameters\n",
    "\n",
    "#set parameters grid\n",
    "params_rf = {'n_estimators':[250,280,300], \n",
    "             'min_samples_leaf':[0.0000001, 0.0001, 0.001], \n",
    "             'max_features':[0.2, 0.5, 1], \n",
    "             'max_depth':[5,10,20]}\n",
    "\n",
    "#instantiate and fit GridSearch to training set\n",
    "grid_rf = GridSearchCV(RandomForestRegressor(random_state=42, n_jobs=-1), \n",
    "                       param_grid=params_rf, \n",
    "                       scoring='neg_mean_squared_error', \n",
    "                       cv=6)\n",
    "grid_rf.fit(X_train, y_train)\n",
    "\n",
    "#print best parameters\n",
    "print('Best parameters from GridSearch CV: {:}'.format(grid_rf.best_params_))\n",
    "print(' ')\n",
    "\n",
    "#predict on test set with best estimator\n",
    "y_pred_rf_tuned = grid_rf.best_estimator_.predict(X_test)\n",
    "\n",
    "#RMSE of best estimator\n",
    "rmse_rf_tuned = (MSE(y_test, y_pred_rf_tuned)**(1/2))\n",
    "\n",
    "print('Test RMSE of tuned rf model: {:.2f}'.format(rmse_rf_tuned))"
   ]
  },
  {
   "cell_type": "markdown",
   "id": "763f2bed",
   "metadata": {},
   "source": [
    "#### 5.\tCreate an xgboost model tuned to the best of your abilities. Explain how you tuned it. "
   ]
  },
  {
   "cell_type": "markdown",
   "id": "08bbc53f",
   "metadata": {},
   "source": [
    "###### - XGBoost Training Set"
   ]
  },
  {
   "cell_type": "code",
   "execution_count": 17,
   "id": "9f38afeb",
   "metadata": {},
   "outputs": [
    {
     "name": "stdout",
     "output_type": "stream",
     "text": [
      "Training Set RMSE of xgb model: 3.06\n"
     ]
    }
   ],
   "source": [
    "#instantiate XGBRRegressor and fit to training set\n",
    "xgb = XGBRegressor(random_state=42)\n",
    "xgb.fit(X_train, y_train)\n",
    "\n",
    "#training set RMSE\n",
    "rmse_xgb_train = -cross_val_score(dt, \n",
    "                                 X_train, y_train, \n",
    "                                 cv=10, \n",
    "                                 scoring='neg_mean_squared_error', \n",
    "                                 n_jobs=-1)\n",
    "rmse_xgb_train = rmse_xgb_train.mean()**(1/2)\n",
    "print(\"Training Set RMSE of xgb model: {:.2f}\".format(rmse_xgb_train))"
   ]
  },
  {
   "cell_type": "markdown",
   "id": "8b401a2a",
   "metadata": {},
   "source": [
    "###### - XGBoost Testing Set"
   ]
  },
  {
   "cell_type": "code",
   "execution_count": 18,
   "id": "c0f72cf5",
   "metadata": {},
   "outputs": [
    {
     "name": "stdout",
     "output_type": "stream",
     "text": [
      "Test RMSE of xgb model: 2.29\n"
     ]
    }
   ],
   "source": [
    "#predict target values useing the test set\n",
    "y_pred_xgb = xgb.predict(X_test)\n",
    "\n",
    "#calculate and print RMSE\n",
    "rmse_xgb = (MSE(y_test, y_pred_xgb)**(1/2))\n",
    "\n",
    "print(\"Test RMSE of xgb model: {:.2f}\".format(rmse_xgb))"
   ]
  },
  {
   "cell_type": "markdown",
   "id": "0e7b4523",
   "metadata": {},
   "source": [
    "###### - XGBoost Testing Set w/ Parameter Tuning"
   ]
  },
  {
   "cell_type": "code",
   "execution_count": 19,
   "id": "3a59f248",
   "metadata": {},
   "outputs": [
    {
     "name": "stdout",
     "output_type": "stream",
     "text": [
      "Best parameters from GridSearch CV: {'eta': 0.3, 'gamma': 30, 'max_depth': 6}\n",
      " \n",
      "Test RMSE of tuned xgb model: 2.21\n"
     ]
    }
   ],
   "source": [
    "#Grid Search CV to tune hyperparameters\n",
    "params_xgb = {'eta':[0.01, 0.3, 0.5], \n",
    "             'gamma':[0.01, 5, 30], \n",
    "             'max_depth':[3, 6, 15]}\n",
    "\n",
    "grid_xgb = GridSearchCV(XGBRegressor(random_state=42), \n",
    "                       param_grid=params_xgb, \n",
    "                       scoring='neg_mean_squared_error', \n",
    "                       cv=6)\n",
    "grid_xgb.fit(X_train, y_train)\n",
    "\n",
    "#print best parameters\n",
    "print('Best parameters from GridSearch CV: {:}'.format(grid_xgb.best_params_))\n",
    "print(' ')\n",
    "\n",
    "#predict on test set with best estimator\n",
    "y_pred_xgb_tuned = grid_xgb.best_estimator_.predict(X_test)\n",
    "\n",
    "#RMSE of best estimator\n",
    "rmse_xgb_tuned = (MSE(y_test, y_pred_xgb_tuned)**(1/2))\n",
    "\n",
    "print('Test RMSE of tuned xgb model: {:.2f}'.format(rmse_xgb_tuned))"
   ]
  },
  {
   "cell_type": "markdown",
   "id": "b507fd06",
   "metadata": {},
   "source": [
    "##### 6.\tWhich model performed best? What is your performance metric? Why? "
   ]
  },
  {
   "cell_type": "code",
   "execution_count": 20,
   "id": "443cd99a",
   "metadata": {},
   "outputs": [
    {
     "name": "stdout",
     "output_type": "stream",
     "text": [
      "Baseline RMSE: 3.0\n",
      " \n",
      "Decision Tree Regression\n",
      "Test RMSE of tuned dt model: 2.37\n",
      " \n",
      "Random Forest Regression\n",
      "Test RMSE of tuned rf model: 2.14\n",
      " \n",
      "XGBoost Regression\n",
      "Test RMSE of tuned xgb model: 2.21\n"
     ]
    }
   ],
   "source": [
    "print('Baseline RMSE: 3.0')\n",
    "print(' ')\n",
    "print('Decision Tree Regression')\n",
    "print('Test RMSE of tuned dt model: {:.2f}'.format(rmse_dt_tuned))\n",
    "print(' ')\n",
    "print('Random Forest Regression')\n",
    "print('Test RMSE of tuned rf model: {:.2f}'.format(rmse_rf_tuned))\n",
    "print(' ')\n",
    "print('XGBoost Regression')\n",
    "print('Test RMSE of tuned xgb model: {:.2f}'.format(rmse_xgb_tuned))"
   ]
  },
  {
   "cell_type": "markdown",
   "id": "2cebaafd",
   "metadata": {},
   "source": [
    "For this data set, the tuned Random Forest Regression model had the lowest root mean squared error (RMSE) of the three attempted models.  I used RMSE as a measure of the model's performance.  This model on average is 2.14 rings off in it's prediction of number of rings based on available features.\n",
    "\n",
    "Changing X variable to be the whole_weight achieved RMSE value of 2.47"
   ]
  }
 ],
 "metadata": {
  "kernelspec": {
   "display_name": "Python 3 (ipykernel)",
   "language": "python",
   "name": "python3"
  },
  "language_info": {
   "codemirror_mode": {
    "name": "ipython",
    "version": 3
   },
   "file_extension": ".py",
   "mimetype": "text/x-python",
   "name": "python",
   "nbconvert_exporter": "python",
   "pygments_lexer": "ipython3",
   "version": "3.9.7"
  }
 },
 "nbformat": 4,
 "nbformat_minor": 5
}
